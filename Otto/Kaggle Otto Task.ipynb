{
 "cells": [
  {
   "cell_type": "markdown",
   "metadata": {},
   "source": [
    "# About\n",
    "This document is about the Kaggle challenge [Otto Group Product Classification Challenge](https://www.kaggle.com/c/otto-group-product-classification-challenge/)"
   ]
  },
  {
   "cell_type": "markdown",
   "metadata": {},
   "source": [
    "# First some general statistics"
   ]
  },
  {
   "cell_type": "code",
   "execution_count": 1,
   "metadata": {
    "collapsed": false,
    "scrolled": true
   },
   "outputs": [
    {
     "name": "stdout",
     "output_type": "stream",
     "text": [
      "The training set contains 61878 entries and the final competition test contains 144368 entries.\n"
     ]
    }
   ],
   "source": [
    "with open(\"train.csv\") as f:\n",
    "    lines = f.readlines()\n",
    "with open(\"test.csv\") as f:\n",
    "    lines_competition_test = f.readlines()\n",
    "print(\"The training set contains %i entries and the final competition test contains %i entries.\" %\n",
    "      (len(lines)-1, len(lines_competition_test)-1))"
   ]
  },
  {
   "cell_type": "markdown",
   "metadata": {},
   "source": [
    "# Parse the data"
   ]
  },
  {
   "cell_type": "code",
   "execution_count": 2,
   "metadata": {
    "collapsed": false
   },
   "outputs": [
    {
     "name": "stdout",
     "output_type": "stream",
     "text": [
      "id,feat_1,feat_2,feat_3,feat_4,feat_5,feat_6,feat_7,feat_8,feat_9,feat_10,feat_11,feat_12,feat_13,feat_14,feat_15,feat_16,feat_17,feat_18,feat_19,feat_20,feat_21,feat_22,feat_23,feat_24,feat_25,feat_26,feat_27,feat_28,feat_29,feat_30,feat_31,feat_32,feat_33,feat_34,feat_35,feat_36,feat_37,feat_38,feat_39,feat_40,feat_41,feat_42,feat_43,feat_44,feat_45,feat_46,feat_47,feat_48,feat_49,feat_50,feat_51,feat_52,feat_53,feat_54,feat_55,feat_56,feat_57,feat_58,feat_59,feat_60,feat_61,feat_62,feat_63,feat_64,feat_65,feat_66,feat_67,feat_68,feat_69,feat_70,feat_71,feat_72,feat_73,feat_74,feat_75,feat_76,feat_77,feat_78,feat_79,feat_80,feat_81,feat_82,feat_83,feat_84,feat_85,feat_86,feat_87,feat_88,feat_89,feat_90,feat_91,feat_92,feat_93,target\n",
      "\n"
     ]
    }
   ],
   "source": [
    "print(lines[0])"
   ]
  },
  {
   "cell_type": "code",
   "execution_count": 3,
   "metadata": {
    "collapsed": false
   },
   "outputs": [
    {
     "name": "stdout",
     "output_type": "stream",
     "text": [
      "id,feat_1,feat_2,feat_3,feat_4,feat_5,feat_6,feat_7,feat_8,feat_9,feat_10,feat_11,feat_12,feat_13,feat_14,feat_15,feat_16,feat_17,feat_18,feat_19,feat_20,feat_21,feat_22,feat_23,feat_24,feat_25,feat_26,feat_27,feat_28,feat_29,feat_30,feat_31,feat_32,feat_33,feat_34,feat_35,feat_36,feat_37,feat_38,feat_39,feat_40,feat_41,feat_42,feat_43,feat_44,feat_45,feat_46,feat_47,feat_48,feat_49,feat_50,feat_51,feat_52,feat_53,feat_54,feat_55,feat_56,feat_57,feat_58,feat_59,feat_60,feat_61,feat_62,feat_63,feat_64,feat_65,feat_66,feat_67,feat_68,feat_69,feat_70,feat_71,feat_72,feat_73,feat_74,feat_75,feat_76,feat_77,feat_78,feat_79,feat_80,feat_81,feat_82,feat_83,feat_84,feat_85,feat_86,feat_87,feat_88,feat_89,feat_90,feat_91,feat_92,feat_93\n",
      "\n"
     ]
    }
   ],
   "source": [
    "print(lines_competition_test[0])"
   ]
  },
  {
   "cell_type": "code",
   "execution_count": 4,
   "metadata": {
    "collapsed": false
   },
   "outputs": [
    {
     "name": "stdout",
     "output_type": "stream",
     "text": [
      "{'target': 0, 'id': 1, 'features': [1, 0, 0, 0, 0, 0, 0, 0, 0, 0, 1, 0, 0, 0, 0, 0, 2, 0, 0, 0, 0, 1, 0, 4, 1, 1, 0, 0, 2, 0, 0, 0, 0, 0, 1, 0, 0, 0, 0, 1, 0, 5, 0, 0, 0, 0, 0, 2, 0, 0, 0, 0, 0, 1, 0, 0, 2, 0, 0, 11, 0, 1, 1, 0, 1, 0, 7, 0, 0, 0, 1, 0, 0, 0, 0, 0, 0, 0, 2, 1, 0, 0, 0, 0, 1, 0, 0, 0, 0, 0, 0, 0, 0]}\n",
      "144368\n"
     ]
    }
   ],
   "source": [
    "dataset = []\n",
    "for line in lines[1:]:  # Skip header\n",
    "    line = line.strip().split(\",\")\n",
    "    dataset.append({'id': int(line[0]),\n",
    "                    'features': [int(feature) for feature in line[1:-1]],\n",
    "                    'target': int(line[-1][-1])-1}) # target is Class_i, where i is 1,...,9\n",
    "print(dataset[0])\n",
    "\n",
    "dataset_competition_test = []\n",
    "for line in lines_competition_test[1:]:  # Skip header\n",
    "    line = line.strip().split(\",\")\n",
    "    dataset_competition_test.append({'id': int(line[0]),\n",
    "                                     'features': [int(feature) for feature in line[1:]]})\n",
    "print(len(dataset_competition_test))"
   ]
  },
  {
   "cell_type": "markdown",
   "metadata": {},
   "source": [
    "# Data analysis"
   ]
  },
  {
   "cell_type": "code",
   "execution_count": 5,
   "metadata": {
    "collapsed": false
   },
   "outputs": [
    {
     "name": "stdout",
     "output_type": "stream",
     "text": [
      "Class 0 has  1929 training examples.\n",
      "Class 1 has 16122 training examples.\n",
      "Class 2 has  8004 training examples.\n",
      "Class 3 has  2691 training examples.\n",
      "Class 4 has  2739 training examples.\n",
      "Class 5 has 14135 training examples.\n",
      "Class 6 has  2839 training examples.\n",
      "Class 7 has  8464 training examples.\n",
      "Class 8 has  4955 training examples.\n"
     ]
    }
   ],
   "source": [
    "class_data = {}\n",
    "for data in dataset:\n",
    "    if data['target'] not in class_data:\n",
    "        class_data[data['target']] = 1\n",
    "    else:\n",
    "        class_data[data['target']] += 1\n",
    "\n",
    "for class_name, counter in sorted(class_data.items()):\n",
    "    print(\"Class {0} has {1:>5} training examples.\".format(class_name, counter))"
   ]
  },
  {
   "cell_type": "markdown",
   "metadata": {},
   "source": [
    "# Feature analysis"
   ]
  },
  {
   "cell_type": "code",
   "execution_count": 6,
   "metadata": {
    "collapsed": false
   },
   "outputs": [
    {
     "name": "stdout",
     "output_type": "stream",
     "text": [
      "[0, 0, 0, 0, 0, 0, 0, 0, 0, 0, 0, 0, 0, 0, 0, 0, 0, 0, 0, 0, 0, 0, 0, 0, 0, 0, 0, 0, 0, 0, 0, 0, 0, 0, 0, 0, 0, 0, 0, 0, 0, 0, 0, 0, 0, 0, 0, 0, 0, 0, 0, 0, 0, 0, 0, 0, 0, 0, 0, 0, 0, 0, 0, 0, 0, 0, 0, 0, 0, 0, 0, 0, 0, 0, 0, 0, 0, 0, 0, 0, 0, 0, 0, 0, 0, 0, 0, 0, 0, 0, 0, 0, 0]\n",
      "[61, 51, 64, 70, 19, 10, 38, 76, 43, 30, 38, 30, 72, 33, 46, 37, 43, 32, 121, 27, 14, 22, 64, 263, 30, 33, 123, 22, 69, 87, 59, 149, 24, 84, 105, 84, 22, 39, 78, 41, 36, 41, 42, 34, 80, 41, 47, 49, 81, 73, 44, 48, 53, 63, 27, 62, 30, 117, 97, 40, 38, 56, 51, 73, 38, 36, 104, 109, 76, 46, 31, 30, 352, 231, 80, 102, 29, 80, 25, 54, 26, 24, 79, 76, 55, 65, 67, 30, 61, 130, 52, 19, 87]\n",
      "Competition set\n",
      "[0, 0, 0, 0, 0, 0, 0, 0, 0, 0, 0, 0, 0, 0, 0, 0, 0, 0, 0, 0, 0, 0, 0, 0, 0, 0, 0, 0, 0, 0, 0, 0, 0, 0, 0, 0, 0, 0, 0, 0, 0, 0, 0, 0, 0, 0, 0, 0, 0, 0, 0, 0, 0, 0, 0, 0, 0, 0, 0, 0, 0, 0, 0, 0, 0, 0, 0, 0, 0, 0, 0, 0, 0, 0, 0, 0, 0, 0, 0, 0, 0, 0, 0, 0, 0, 0, 0, 0, 0, 0, 0, 0, 0]\n",
      "[64, 45, 84, 82, 14, 11, 44, 100, 47, 59, 37, 30, 75, 34, 39, 46, 49, 30, 128, 31, 28, 28, 76, 213, 30, 62, 71, 24, 69, 122, 64, 141, 32, 86, 104, 86, 25, 42, 85, 43, 48, 43, 32, 35, 76, 54, 45, 70, 79, 73, 49, 79, 64, 86, 31, 58, 38, 202, 84, 39, 37, 56, 55, 62, 64, 36, 112, 173, 80, 43, 65, 35, 352, 398, 87, 102, 28, 100, 32, 60, 33, 28, 91, 132, 56, 73, 54, 37, 62, 119, 74, 22, 91]\n",
      "Max max: 398\n"
     ]
    }
   ],
   "source": [
    "mins = [dataset[0]['features'][i] for i in range(93)]\n",
    "maxs = [dataset[0]['features'][i] for i in range(93)]\n",
    "for data in dataset:\n",
    "    for i in range(93):\n",
    "        mins[i] = min(mins[i], data['features'][i])\n",
    "        maxs[i] = max(maxs[i], data['features'][i])\n",
    "print(mins)\n",
    "print(maxs)\n",
    "\n",
    "print(\"Competition set\")\n",
    "mins = [dataset_competition_test[0]['features'][i] for i in range(93)]\n",
    "maxs = [dataset_competition_test[0]['features'][i] for i in range(93)]\n",
    "for data in dataset_competition_test:\n",
    "    for i in range(93):\n",
    "        mins[i] = min(mins[i], data['features'][i])\n",
    "        maxs[i] = max(maxs[i], data['features'][i])\n",
    "print(mins)\n",
    "print(maxs)\n",
    "print(\"Max max: %i\" % max(maxs))"
   ]
  },
  {
   "cell_type": "markdown",
   "metadata": {},
   "source": [
    "### Analysis of maxima by class"
   ]
  },
  {
   "cell_type": "code",
   "execution_count": 7,
   "metadata": {
    "collapsed": false
   },
   "outputs": [
    {
     "name": "stdout",
     "output_type": "stream",
     "text": [
      "Max. for class 0: [25, 10, 7, 5, 19, 5, 19, 56, 7, 26]\n",
      "Max. for class 1: [22, 5, 6, 7, 13, 3, 9, 14, 41, 24]\n",
      "Max. for class 2: [22, 7, 5, 5, 4, 3, 7, 13, 43, 22]\n",
      "Max. for class 3: [30, 2, 5, 9, 5, 2, 2, 6, 20, 30]\n",
      "Max. for class 4: [3, 2, 4, 5, 2, 1, 1, 6, 15, 4]\n",
      "Max. for class 5: [11, 26, 64, 67, 12, 10, 9, 21, 18, 12]\n",
      "Max. for class 6: [13, 39, 10, 10, 5, 3, 15, 22, 17, 30]\n",
      "Max. for class 7: [61, 51, 44, 70, 11, 8, 38, 23, 29, 22]\n",
      "Max. for class 8: [13, 5, 6, 11, 6, 3, 8, 76, 15, 22]\n"
     ]
    }
   ],
   "source": [
    "for class_i in range(9):\n",
    "    maxs = [0 for i in range(93)]\n",
    "    for data in dataset:\n",
    "        if data['target'] != class_i:\n",
    "            continue\n",
    "        for i in range(93):\n",
    "            maxs[i] = max(maxs[i], data['features'][i])\n",
    "    print(\"Max. for class %i: %s\" % (class_i, str(maxs[:10])))"
   ]
  },
  {
   "cell_type": "code",
   "execution_count": 8,
   "metadata": {
    "collapsed": true
   },
   "outputs": [],
   "source": [
    "%matplotlib inline"
   ]
  },
  {
   "cell_type": "code",
   "execution_count": 9,
   "metadata": {
    "collapsed": false
   },
   "outputs": [],
   "source": [
    "import numpy as np\n",
    "from numpy.random import randn\n",
    "import pandas as pd\n",
    "from scipy import stats\n",
    "import matplotlib as mpl\n",
    "import matplotlib.pyplot as plt\n",
    "import seaborn as sns"
   ]
  },
  {
   "cell_type": "code",
   "execution_count": 10,
   "metadata": {
    "collapsed": false
   },
   "outputs": [
    {
     "data": {
      "image/png": "[encoded data removed]",
      "text/plain": [
       "<matplotlib.figure.Figure at 0x7f3486f10d10>"
      ]
     },
     "metadata": {},
     "output_type": "display_data"
    },
    {
     "data": {
      "image/png": "[encoded data removed]",
      "text/plain": [
       "<matplotlib.figure.Figure at 0x7f34869d7ed0>"
      ]
     },
     "metadata": {},
     "output_type": "display_data"
    },
    {
     "data": {
      "image/png": "[encoded data removed]",
      "text/plain": [
       "<matplotlib.figure.Figure at 0x7f3486920610>"
      ]
     },
     "metadata": {},
     "output_type": "display_data"
    },
    {
     "data": {
      "image/png": "[encoded data removed]",
      "text/plain": [
       "<matplotlib.figure.Figure at 0x7f3486859d90>"
      ]
     },
     "metadata": {},
     "output_type": "display_data"
    }
   ],
   "source": [
    "sns.set_palette(\"deep\", desat=.6)\n",
    "sns.set_context(rc={\"figure.figsize\": (8, 4)})\n",
    "\n",
    "for feature in range(4):\n",
    "    data = [d['features'][feature] for d in dataset]\n",
    "    fig = plt.figure()\n",
    "    ax = fig.add_subplot(4, 1, feature+1)\n",
    "    line = ax.hist(data, color='blue', lw=2)\n",
    "plt.show()\n",
    "##plt.hist(small);"
   ]
  },
  {
   "cell_type": "markdown",
   "metadata": {},
   "source": [
    "It looks *very* much as if most features would be 0 most of the time."
   ]
  },
  {
   "cell_type": "markdown",
   "metadata": {},
   "source": [
    "# Experimenting with classifiers\n",
    "In order to test how well our ideas perform, we need a labeled training and test set (and eventually a validation set and a development set)."
   ]
  },
  {
   "cell_type": "code",
   "execution_count": 134,
   "metadata": {
    "collapsed": false
   },
   "outputs": [
    {
     "name": "stdout",
     "output_type": "stream",
     "text": [
      "Training set has 55686 entries, test set has 6192 entries.\n"
     ]
    }
   ],
   "source": [
    "current_best_score = 0.53344\n",
    "current_best_score_by_class = [ 0.00822475,  0.04901561,  0.03098987,  0.01030099,  0.01261864,  0.04582523,\n",
    "  0.0105592,   0.03471553,  0.01979984]\n",
    "training_set = []\n",
    "test_set = []\n",
    "complete_set = []\n",
    "\n",
    "# Build data structure for splitting\n",
    "data_by_class = {}\n",
    "for data in dataset:\n",
    "    if data['target'] in data_by_class:\n",
    "        data_by_class[data['target']].append(data)\n",
    "    else:\n",
    "        data_by_class[data['target']] = [data]\n",
    "\n",
    "# split\n",
    "for class_name, class_data in data_by_class.items():\n",
    "    for i, d in enumerate(class_data):\n",
    "        complete_set.append(d)\n",
    "        if i % 10 == 0: # 10% test set, 90% training set\n",
    "            test_set.append(d)\n",
    "        else:\n",
    "            training_set.append(d)\n",
    "            \n",
    "print(\"Training set has %i entries, test set has %i entries.\" % (len(training_set), len(test_set)))"
   ]
  },
  {
   "cell_type": "code",
   "execution_count": 91,
   "metadata": {
    "collapsed": false
   },
   "outputs": [],
   "source": [
    "import numpy\n",
    "y_train = numpy.array([d['target'] for d in training_set], dtype=numpy.int32)\n",
    "X_train = numpy.array([d['features'] for d in training_set], dtype=numpy.float32)\n",
    "y_test = numpy.array([d['target'] for d in test_set], dtype=numpy.int32)\n",
    "X_test = numpy.array([d['features'] for d in test_set], dtype=numpy.float32)\n",
    "y_complete = numpy.array([d['target'] for d in complete_set], dtype=numpy.int32)\n",
    "X_complete = numpy.array([d['features'] for d in complete_set], dtype=numpy.float32)\n",
    "\n",
    "X_competition_test = numpy.array([d['features'] for d in dataset_competition_test], dtype=numpy.float32)"
   ]
  },
  {
   "cell_type": "code",
   "execution_count": 132,
   "metadata": {
    "collapsed": true
   },
   "outputs": [],
   "source": [
    "import time\n",
    "from sklearn.metrics import log_loss\n",
    "from math import log\n",
    "\n",
    "def log_loss_by_class(y_true, y_pred):\n",
    "    c = [0.0 for i in range(9)]\n",
    "    for tr, pred in zip(y_true, y_pred):\n",
    "        val = max(min(pred[tr], 1-10**(-15)),10**(-15))\n",
    "        c[tr] += -log(val)\n",
    "    return c\n",
    "\n",
    "def try_classifier(clf):\n",
    "    \"\"\"Train a classifier and score against our labeled test set\"\"\"\n",
    "    t0 = time.time()\n",
    "    clf.fit(X_train, y_train)\n",
    "    t1 = time.time()\n",
    "    y_pred = clf.predict_proba(X_test)\n",
    "    score = log_loss(y_test, y_pred)\n",
    "    t2 = time.time()\n",
    "    print(\"%0.2f s for training, %0.2f s for scoring, got a score of %0.4f.\" % (t1-t0, t2-t1, score))\n",
    "    classesloss = log_loss_by_class(y_test, y_pred)\n",
    "    classesloss = numpy.array(classesloss)/len(y_pred)\n",
    "    improved = False\n",
    "    for i in range(9):\n",
    "        if classesloss[i] < current_best_score_by_class[i]:\n",
    "            improved = True\n",
    "    if improved:\n",
    "        print(\"!\"*80)\n",
    "        print(\"Improved! (partially)\")\n",
    "        print(classesloss)\n",
    "\n",
    "def create_submission(clf):\n",
    "    import gzip\n",
    "    y_pred = clf.predict_proba(X_test)\n",
    "    score = log_loss(y_test, y_pred)\n",
    "    print(\"Expected score: %0.4f. Currently, the best submission at Kaggle is %0.4f.\" % (score, current_best_score))\n",
    "    y_pred = clf.predict_proba(X_competition_test)\n",
    "    with gzip.open(\"submission.csv.gz\", \"wb\") as f:\n",
    "        f.write(\"id,Class_1,Class_2,Class_3,Class_4,Class_5,Class_6,Class_7,Class_8,Class_9\\n\")\n",
    "        for i, pred in enumerate(y_pred, start=1):\n",
    "            f.write(str(i) + \",\" + \",\".join([str(el) for el in pred]) + \"\\n\")\n",
    "    print(\"http://www.kaggle.com/c/otto-group-product-classification-challenge\")"
   ]
  },
  {
   "cell_type": "markdown",
   "metadata": {},
   "source": [
    "## SVC\n",
    "Try it from http://scikit-learn.org/stable/auto_examples/plot_classifier_comparison.html"
   ]
  },
  {
   "cell_type": "code",
   "execution_count": 14,
   "metadata": {
    "collapsed": false
   },
   "outputs": [],
   "source": [
    "from sklearn.svm import SVC\n",
    "svc_clf = SVC(gamma=2, C=1, probability=True)\n",
    "#try_classifier(svc_clf)  # This takes some hours on a strong machine and has a score of 1.8861\n",
    "#create_submission(svc_clf)"
   ]
  },
  {
   "cell_type": "code",
   "execution_count": 15,
   "metadata": {
    "collapsed": false
   },
   "outputs": [],
   "source": [
    "#svc_linear_clf = SVC(kernel=\"linear\", C=0.025, probability=True)\n",
    "#try_classifier(svc_linear_clf)\n",
    "#create_submission(svc_linear_clf)"
   ]
  },
  {
   "cell_type": "code",
   "execution_count": 16,
   "metadata": {
    "collapsed": false
   },
   "outputs": [],
   "source": [
    "#svc_sigmoid_clf = SVC(kernel=\"sigmoid\", C=0.025, probability=True)\n",
    "#try_classifier(svc_sigmoid_clf)\n",
    "#create_submission(svc_sigmoid_clf)"
   ]
  },
  {
   "cell_type": "markdown",
   "metadata": {
    "collapsed": true
   },
   "source": [
    "## DecisionTree"
   ]
  },
  {
   "cell_type": "code",
   "execution_count": 135,
   "metadata": {
    "collapsed": false
   },
   "outputs": [
    {
     "name": "stdout",
     "output_type": "stream",
     "text": [
      "1\n",
      "0.10 s for training, 0.00 s for scoring, got a score of 1.7765.\n",
      "2\n",
      "0.18 s for training, 0.00 s for scoring, got a score of 1.6224.\n",
      "3\n",
      "0.27 s for training, 0.00 s for scoring, got a score of 1.5006.\n",
      "4\n",
      "0.34 s for training, 0.00 s for scoring, got a score of 1.4203.\n",
      "5\n",
      "0.42 s for training, 0.00 s for scoring, got a score of 1.3342.\n",
      "6\n",
      "0.49 s for training, 0.00 s for scoring, got a score of 1.2577.\n",
      "7\n",
      "0.56 s for training, 0.00 s for scoring, got a score of 1.2316.\n",
      "8\n",
      "0.62 s for training, 0.00 s for scoring, got a score of 1.1757.\n",
      "9\n",
      "0.64 s for training, 0.00 s for scoring, got a score of 1.1673.\n",
      "10\n",
      "0.62 s for training, 0.00 s for scoring, got a score of 1.1957.\n",
      "11\n",
      "0.67 s for training, 0.00 s for scoring, got a score of 1.2192.\n",
      "12\n",
      "0.72 s for training, 0.00 s for scoring, got a score of 1.2639.\n",
      "13\n",
      "0.77 s for training, 0.00 s for scoring, got a score of 1.3864.\n",
      "14\n",
      "0.82 s for training, 0.00 s for scoring, got a score of 1.5591.\n",
      "15\n",
      "0.87 s for training, 0.00 s for scoring, got a score of 1.7492.\n",
      "16\n",
      "0.91 s for training, 0.00 s for scoring, got a score of 1.9822.\n",
      "17\n",
      "0.96 s for training, 0.00 s for scoring, got a score of 2.2358.\n",
      "18\n",
      "1.00 s for training, 0.00 s for scoring, got a score of 2.5671.\n",
      "19\n",
      "1.05 s for training, 0.00 s for scoring, got a score of 2.8870.\n"
     ]
    }
   ],
   "source": [
    "from sklearn.tree import DecisionTreeClassifier\n",
    "for i in range(6, 11):\n",
    "    print(i)\n",
    "    decision_tree_clf = DecisionTreeClassifier(max_depth=i)\n",
    "    try_classifier(decision_tree_clf)"
   ]
  },
  {
   "cell_type": "code",
   "execution_count": 18,
   "metadata": {
    "collapsed": false
   },
   "outputs": [
    {
     "name": "stdout",
     "output_type": "stream",
     "text": [
      "0.58 s for training, 0.00 s for scoring, got a score of 1.1618.\n",
      "Expected score: 1.1618. Currently, the best submission at Kaggle is 0.5380.\n",
      "http://www.kaggle.com/c/otto-group-product-classification-challenge\n"
     ]
    }
   ],
   "source": [
    "decision_tree_clf = DecisionTreeClassifier(max_depth=9)\n",
    "try_classifier(decision_tree_clf)\n",
    "create_submission(decision_tree_clf)"
   ]
  },
  {
   "cell_type": "markdown",
   "metadata": {},
   "source": [
    "## AdaBoostClassifier"
   ]
  },
  {
   "cell_type": "code",
   "execution_count": 136,
   "metadata": {
    "collapsed": false
   },
   "outputs": [
    {
     "name": "stdout",
     "output_type": "stream",
     "text": [
      "5.54 s for training, 0.09 s for scoring, got a score of 2.0485.\n",
      "Expected score: 2.0485. Currently, the best submission at Kaggle is 0.5334.\n",
      "http://www.kaggle.com/c/otto-group-product-classification-challenge\n"
     ]
    }
   ],
   "source": [
    "#from sklearn.ensemble import AdaBoostClassifier\n",
    "#adaboost_clf = AdaBoostClassifier()\n",
    "#try_classifier(adaboost_clf)\n",
    "#create_submission(adaboost_clf)"
   ]
  },
  {
   "cell_type": "markdown",
   "metadata": {},
   "source": [
    "## KNN"
   ]
  },
  {
   "cell_type": "code",
   "execution_count": 138,
   "metadata": {
    "collapsed": false
   },
   "outputs": [
    {
     "name": "stdout",
     "output_type": "stream",
     "text": [
      "2.72 s for training, 34.78 s for scoring, got a score of 2.3611.\n",
      "Expected score: 2.3611. Currently, the best submission at Kaggle is 0.5334.\n",
      "http://www.kaggle.com/c/otto-group-product-classification-challenge\n"
     ]
    }
   ],
   "source": [
    "#from sklearn.neighbors import KNeighborsClassifier\n",
    "#knnclf = KNeighborsClassifier(5)\n",
    "#try_classifier(knnclf) \n",
    "#create_submission(knnclf)"
   ]
  },
  {
   "cell_type": "markdown",
   "metadata": {},
   "source": [
    "## LDA"
   ]
  },
  {
   "cell_type": "code",
   "execution_count": 140,
   "metadata": {
    "collapsed": false
   },
   "outputs": [
    {
     "name": "stdout",
     "output_type": "stream",
     "text": [
      "0.26 s for training, 0.02 s for scoring, got a score of 1.0216.\n",
      "Expected score: 1.0216. Currently, the best submission at Kaggle is 0.5334.\n",
      "http://www.kaggle.com/c/otto-group-product-classification-challenge\n"
     ]
    }
   ],
   "source": [
    "from sklearn.lda import LDA\n",
    "lda_clf = LDA()\n",
    "try_classifier(lda_clf)\n",
    "create_submission(lda_clf)"
   ]
  },
  {
   "cell_type": "markdown",
   "metadata": {},
   "source": [
    "## QDA"
   ]
  },
  {
   "cell_type": "code",
   "execution_count": 141,
   "metadata": {
    "collapsed": false
   },
   "outputs": [
    {
     "name": "stdout",
     "output_type": "stream",
     "text": [
      "0.24 s for training, 0.09 s for scoring, got a score of 5.9614.\n",
      "Expected score: 5.9614. Currently, the best submission at Kaggle is 0.5334.\n",
      "http://www.kaggle.com/c/otto-group-product-classification-challenge\n"
     ]
    }
   ],
   "source": [
    "from sklearn.qda import QDA\n",
    "qda_clf = QDA()\n",
    "try_classifier(qda_clf)\n",
    "create_submission(qda_clf)"
   ]
  },
  {
   "cell_type": "markdown",
   "metadata": {},
   "source": [
    "## GaussianNB"
   ]
  },
  {
   "cell_type": "code",
   "execution_count": 142,
   "metadata": {
    "collapsed": false
   },
   "outputs": [
    {
     "name": "stdout",
     "output_type": "stream",
     "text": [
      "0.02 s for training, 0.03 s for scoring, got a score of 7.1846.\n",
      "Expected score: 7.1846. Currently, the best submission at Kaggle is 0.5334.\n",
      "http://www.kaggle.com/c/otto-group-product-classification-challenge\n"
     ]
    }
   ],
   "source": [
    "from sklearn.naive_bayes import GaussianNB\n",
    "gaussiannb_clf = GaussianNB()\n",
    "try_classifier(gaussiannb_clf)\n",
    "create_submission(gaussiannb_clf)"
   ]
  },
  {
   "cell_type": "markdown",
   "metadata": {},
   "source": [
    "## GMM classification"
   ]
  },
  {
   "cell_type": "code",
   "execution_count": 143,
   "metadata": {
    "collapsed": false
   },
   "outputs": [
    {
     "name": "stdout",
     "output_type": "stream",
     "text": [
      "(9, 93)\n",
      "12.59 s for training, 0.01 s for scoring, got a score of 30.5374.\n",
      "Expected score: 30.5374. Currently, the best submission at Kaggle is 0.5334.\n",
      "http://www.kaggle.com/c/otto-group-product-classification-challenge\n"
     ]
    }
   ],
   "source": [
    "a = \"\"\"\n",
    "from sklearn.mixture import GMM\n",
    "gmm_diag_clf = GMM(n_components=9, covariance_type='diag', init_params='wc', n_iter=20)\n",
    "t0 = time.time()\n",
    "X_train_by_class = {}\n",
    "for i in range(9):\n",
    "    X_train_by_class[i] = []\n",
    "for x, y in zip(X_train, y_train):\n",
    "    X_train_by_class[y].append(x)\n",
    "init = numpy.array([numpy.array(X_train_by_class[i]).mean(axis=0) for i in range(9)])\n",
    "print(init.shape)\n",
    "gmm_diag_clf.means = init\n",
    "gmm_diag_clf.fit(X_train)\n",
    "t1 = time.time()\n",
    "y_pred = gmm_diag_clf.predict_proba(X_test)\n",
    "score = log_loss(y_test, y_pred)\n",
    "t2 = time.time()\n",
    "print(\"%0.2f s for training, %0.2f s for scoring, got a score of %0.4f.\" % (t1-t0, t2-t1, score))\n",
    "create_submission(gmm_diag_clf)\n",
    "\"\"\""
   ]
  },
  {
   "cell_type": "markdown",
   "metadata": {
    "collapsed": true
   },
   "source": [
    "## Geometric distribution\n",
    "As every feature represents a count, every feature is very likely to follow a geometric distribution:\n",
    "\n",
    "\\begin{equation*}\n",
    "P(X=n)=p(1-p)^n\n",
    "\\end{equation*}\n",
    "\n",
    "The simplest way to use this fact is to make a maximum likelihood estimiation seperately for each feature and class on the training data (as training).\n",
    "\n",
    "After that, the evaluation of new recordings with the Naive bayes classifier."
   ]
  },
  {
   "cell_type": "code",
   "execution_count": 25,
   "metadata": {
    "collapsed": false
   },
   "outputs": [
    {
     "name": "stdout",
     "output_type": "stream",
     "text": [
      "0.03 s for training, 0.01 s for scoring, got a score of 3.4472.\n",
      "Expected score: 3.4472. Currently, the best submission at Kaggle is 0.5380.\n",
      "http://www.kaggle.com/c/otto-group-product-classification-challenge\n"
     ]
    }
   ],
   "source": [
    "#from sklearn.naive_bayes import MultinomialNB\n",
    "#nb_clf = MultinomialNB(alpha=0.2, fit_prior=True, class_prior=None)\n",
    "#try_classifier(nb_clf)\n",
    "#create_submission(nb_clf)"
   ]
  },
  {
   "cell_type": "markdown",
   "metadata": {},
   "source": [
    "## GradientBoostingClassifier\n",
    "http://scikit-learn.org/stable/modules/generated/sklearn.ensemble.GradientBoostingClassifier.html"
   ]
  },
  {
   "cell_type": "code",
   "execution_count": 144,
   "metadata": {
    "collapsed": false
   },
   "outputs": [
    {
     "name": "stdout",
     "output_type": "stream",
     "text": [
      "254.03 s for training, 0.07 s for scoring, got a score of 0.5938.\n",
      "!!!!!!!!!!!!!!!!!!!!!!!!!!!!!!!!!!!!!!!!!!!!!!!!!!!!!!!!!!!!!!!!!!!!!!!!!!!!!!!!\n",
      "Improved! (partially)\n",
      "[ 0.05308346  0.13177644  0.13650979  0.06674199  0.00510585  0.05149895\n",
      "  0.05173902  0.04835077  0.04894951]\n",
      "Expected score: 0.5938. Currently, the best submission at Kaggle is 0.5334.\n",
      "http://www.kaggle.com/c/otto-group-product-classification-challenge\n"
     ]
    }
   ],
   "source": [
    "#a = \"\"\"\n",
    "from sklearn.ensemble import GradientBoostingClassifier\n",
    "nb_clf = GradientBoostingClassifier(loss='deviance',\n",
    "                                    learning_rate=0.1,\n",
    "                                    n_estimators=100,\n",
    "                                    subsample=1.0,\n",
    "                                    min_samples_split=2,\n",
    "                                    min_samples_leaf=1,\n",
    "                                    max_depth=3,\n",
    "                                    init=None,\n",
    "                                    random_state=None,\n",
    "                                    max_features=None,\n",
    "                                    verbose=0,\n",
    "                                    max_leaf_nodes=None,\n",
    "                                    warm_start=False)\n",
    "try_classifier(nb_clf)\n",
    "create_submission(nb_clf)\n",
    "#\"\"\""
   ]
  },
  {
   "cell_type": "code",
   "execution_count": 145,
   "metadata": {
    "collapsed": false
   },
   "outputs": [
    {
     "name": "stdout",
     "output_type": "stream",
     "text": [
      "[0.00822475, 0.04901561, 0.03098987, 0.01030099, 0.01261864, 0.04582523, 0.0105592, 0.03471553, 0.01979984]\n"
     ]
    }
   ],
   "source": [
    "print(current_best_score_by_class)"
   ]
  },
  {
   "cell_type": "markdown",
   "metadata": {},
   "source": [
    "## Neural Networks\n",
    "\n",
    "Install [lasagne](http://lasagne.readthedocs.org/en/latest/user/installation.html#install-from-source) (from [source](https://github.com/benanne/Lasagne)) for the following parts:\n",
    "\n",
    "```bash\n",
    "$ git clone git@github.com:benanne/Lasagne.git\n",
    "$ cd Lasagne\n",
    "$ sudo -H python setup.py install\n",
    "```\n",
    "\n",
    "\n",
    "See [danielnouri.org/notes/2014/12/17/using-convolutional-neural-nets-to-detect-facial-keypoints-tutorial](http://danielnouri.org/notes/2014/12/17/using-convolutional-neural-nets-to-detect-facial-keypoints-tutorial/) for an introduction to lasagne.\n",
    "\n",
    "The [Lasagne Tutorial](http://nbviewer.ipython.org/github/craffel/Lasagne-tutorial/blob/master/examples/tutorial.ipynb) is even better (and uses iPython :-) )\n",
    "\n",
    "Don't forget to set `~/.theanorc` to\n",
    "\n",
    "```text\n",
    "[global]\n",
    "exception_verbosity=high\n",
    "floatX=float32\n",
    "```"
   ]
  },
  {
   "cell_type": "code",
   "execution_count": 107,
   "metadata": {
    "collapsed": false
   },
   "outputs": [],
   "source": [
    "import lasagne\n",
    "import theano\n",
    "import theano.tensor as T\n",
    "\n",
    "N_CLASSES = 9\n",
    "\n",
    "# First, construct an input layer.\n",
    "# The shape parameter defines the expected input shape, which is just the shape of our data matrix X.\n",
    "l_in = lasagne.layers.InputLayer(shape=X_train.shape)\n",
    "# A dense layer implements a linear mix (xW + b) followed by a nonlinearity.\n",
    "hiddens = [32, 32, 18, 32]\n",
    "layers = [l_in]\n",
    "\n",
    "def relu(x):\n",
    "    return theano.tensor.switch(x<0, 0, x)\n",
    "\n",
    "for n_units in hiddens:\n",
    "    l_hidden_1 = lasagne.layers.DenseLayer(\n",
    "        layers[-1],  # The first argument is the input to this layer\n",
    "        num_units=n_units,  # This defines the layer's output dimensionality\n",
    "        nonlinearity=lasagne.nonlinearities.tanh)  # Various nonlinearities are available such as relu\n",
    "    layers.append(l_hidden_1)\n",
    "# For our output layer, we'll use a dense layer with a softmax nonlinearity.\n",
    "l_output = lasagne.layers.DenseLayer(layers[-1], num_units=N_CLASSES, \n",
    "                                     nonlinearity=lasagne.nonlinearities.softmax)\n",
    "# Now, we can generate the symbolic expression of the network's output given an input variable.\n",
    "net_input = T.matrix('net_input')\n",
    "net_output = l_output.get_output(net_input)"
   ]
  },
  {
   "cell_type": "markdown",
   "metadata": {},
   "source": [
    "We should apply multi-cass log loss:\n",
    "    \n",
    "\\begin{equation*}\n",
    "log loss = -\\frac{1}{N}\\sum_{i=1}^N\\sum_{j=1}^My_{ij}\\log(p_{ij}),\n",
    "\\end{equation*}\n",
    "\n",
    "where $N$ is the number of products in the test set, $M=9$ is the number of class labels, log is the natural logarithm, $y_{ij}$ is 1 if observation $i$ is in class $j$ and $0$ otherwise, and $p_{ij}$ is the predicted probability that observation $i$ belongs to class $j$."
   ]
  },
  {
   "cell_type": "code",
   "execution_count": 108,
   "metadata": {
    "collapsed": false
   },
   "outputs": [],
   "source": [
    "# As a loss function, we'll use Theano's categorical_crossentropy function.\n",
    "# This allows for the network output to be class probabilities,\n",
    "# but the target output to be class labels.\n",
    "true_output = T.ivector('true_output')\n",
    "loss = T.mean(T.nnet.categorical_crossentropy(net_output, true_output))\n",
    "\n",
    "reg = lasagne.regularization.l2(l_output)\n",
    "loss = loss + 0.001*reg\n",
    "#NLL_LOSS = -T.sum(T.log(p_y_given_x)[T.arange(y.shape[0]), y])\n",
    "# Retrieving all parameters of the network is done using get_all_params,\n",
    "# which recursively collects the parameters of all layers connected to the provided layer.\n",
    "all_params = lasagne.layers.get_all_params(l_output)\n",
    "\n",
    "# Now, we'll generate updates using Lasagne's SGD function\n",
    "updates = lasagne.updates.momentum(loss, all_params, learning_rate=0.1)\n",
    "\n",
    "# Finally, we can compile Theano functions for training and computing the output.\n",
    "train = theano.function([net_input, true_output], loss, updates=updates)\n",
    "get_output = theano.function([net_input], net_output)\n",
    "\n",
    "#from sklearn.preprocessing import StandardScaler\n",
    "#scaler = StandardScaler()\n",
    "#X_train_s = scaler.fit_transform(X_train)\n",
    "#X_test_s = scaler.transform(X_test)\n",
    "\n",
    "# Train\n",
    "epochs = 500\n",
    "for n in range(epochs):\n",
    "    train(X_train, y_train)"
   ]
  },
  {
   "cell_type": "code",
   "execution_count": 125,
   "metadata": {
    "collapsed": false
   },
   "outputs": [
    {
     "name": "stdout",
     "output_type": "stream",
     "text": [
      "Expected score: 0.5438. Currently, our best submission at Kaggle is 0.5334.\n",
      "[ 0.04642513  0.10722609  0.14724586  0.0660733   0.00659836  0.04373696\n",
      "  0.04468819  0.04253366  0.03929795]\n",
      "0.543825498947\n",
      "http://www.kaggle.com/c/otto-group-product-classification-challenge\n"
     ]
    }
   ],
   "source": [
    "import gzip\n",
    "y_pred = get_output(X_test)\n",
    "score = log_loss(y_test, y_pred)\n",
    "print(\"Expected score: %0.4f. Currently, our best submission at Kaggle is %0.4f.\" % (score, current_best_score))\n",
    "\n",
    "classesloss = log_loss_by_class(y_test, y_pred)\n",
    "print(numpy.array(classesloss)/len(y_pred))\n",
    "print(sum(classesloss)/len(y_pred))\n",
    "\n",
    "y_pred = get_output(X_competition_test)\n",
    "with gzip.open(\"submission.csv.gz\", \"wb\") as f:\n",
    "    f.write(\"id,Class_1,Class_2,Class_3,Class_4,Class_5,Class_6,Class_7,Class_8,Class_9\\n\")\n",
    "    for i, pred in enumerate(y_pred, start=1):\n",
    "        f.write(str(i) + \",\" + \",\".join([str(el) for el in pred]) + \"\\n\")\n",
    "print(\"http://www.kaggle.com/c/otto-group-product-classification-challenge\")"
   ]
  },
  {
   "cell_type": "markdown",
   "metadata": {
    "collapsed": true
   },
   "source": [
    "## Other\n",
    "From https://gist.github.com/chrisdubois/6b93a8028f4dc40cab49"
   ]
  },
  {
   "cell_type": "code",
   "execution_count": 124,
   "metadata": {
    "collapsed": false
   },
   "outputs": [
    {
     "name": "stdout",
     "output_type": "stream",
     "text": [
      "[ 0.00822475  0.04901561  0.03098987  0.01030099  0.01261864  0.04582523\n",
      "  0.0105592   0.03471553  0.01979984]\n",
      "0.222049671137\n"
     ]
    }
   ],
   "source": []
  },
  {
   "cell_type": "code",
   "execution_count": 116,
   "metadata": {
    "collapsed": true
   },
   "outputs": [],
   "source": []
  },
  {
   "cell_type": "code",
   "execution_count": null,
   "metadata": {
    "collapsed": true
   },
   "outputs": [],
   "source": []
  }
 ],
 "metadata": {
  "kernelspec": {
   "display_name": "Python 2",
   "language": "python",
   "name": "python2"
  },
  "language_info": {
   "codemirror_mode": {
    "name": "ipython",
    "version": 2
   },
   "file_extension": ".py",
   "mimetype": "text/x-python",
   "name": "python",
   "nbconvert_exporter": "python",
   "pygments_lexer": "ipython2",
   "version": "2.7.6"
  }
 },
 "nbformat": 4,
 "nbformat_minor": 0
}
